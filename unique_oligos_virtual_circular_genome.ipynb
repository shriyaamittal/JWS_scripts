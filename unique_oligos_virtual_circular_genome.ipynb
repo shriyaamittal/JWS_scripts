{
 "cells": [
  {
   "cell_type": "code",
   "execution_count": 1,
   "metadata": {},
   "outputs": [],
   "source": [
    "import random\n",
    "residues_4=[\"A\",\"G\",\"C\",\"U\"]\n",
    "residue_4_uniform_distribution=[0.25,0.5,0.75,1.0]\n",
    "#residue_4_non_uniform_distribution=[0.25,0.5,0.75,1.0]"
   ]
  },
  {
   "cell_type": "code",
   "execution_count": 2,
   "metadata": {},
   "outputs": [],
   "source": [
    "import seaborn\n",
    "seaborn.set_context(\"talk\")\n",
    "\n",
    "import numpy as np\n",
    "import matplotlib.pyplot as plt"
   ]
  },
  {
   "cell_type": "code",
   "execution_count": 3,
   "metadata": {},
   "outputs": [],
   "source": [
    "def func_generate_genome_residues_4_uniform_distribution(L):\n",
    "    G=\"\"\n",
    "\n",
    "    for i in range(L):\n",
    "        x=random.random()\n",
    "        if (x<residue_4_uniform_distribution[0]):\n",
    "            G+=residues_4[0]\n",
    "        elif x<residue_4_uniform_distribution[1]:\n",
    "            G+=residues_4[1]\n",
    "        elif x<residue_4_uniform_distribution[2]:\n",
    "            G+=residues_4[2]\n",
    "        else:\n",
    "            G+=residues_4[3]\n",
    "        \n",
    "    return G"
   ]
  },
  {
   "cell_type": "code",
   "execution_count": 4,
   "metadata": {},
   "outputs": [],
   "source": [
    "def func_generate_complementary_strand(genome):\n",
    "    \n",
    "    G=\"\"\n",
    "\n",
    "    b1=[\"A\",\"G\",\"C\",\"U\"]\n",
    "    b2=[\"U\",\"C\",\"G\",\"A\"]\n",
    "    \n",
    "    for i in range(len(genome)):\n",
    "        b1_index=b1.index(genome[i])\n",
    "        G+=b2[b1_index]\n",
    "    \n",
    "    assert len(G)==len(genome)\n",
    "    \n",
    "    return G"
   ]
  },
  {
   "cell_type": "code",
   "execution_count": 5,
   "metadata": {},
   "outputs": [],
   "source": [
    "def func_unique_oligos_of_size_K(genome, oligo_size):\n",
    "\n",
    "    K=oligo_size\n",
    "    test_str = genome+genome\n",
    "\n",
    "    if K>len(genome):\n",
    "#        print(\"Substring size is greater than test string size!\")\n",
    "        return []\n",
    "    else:\n",
    "        res = [test_str[i: j] for i in range(len(test_str)) for j in range(i + 1, len(test_str) + 1) if len(test_str[i:j]) == K] \n",
    "        unique_res=set(res)\n",
    "        return unique_res"
   ]
  },
  {
   "cell_type": "code",
   "execution_count": 6,
   "metadata": {},
   "outputs": [],
   "source": [
    "def func_oligos_for_single_strand(genome):\n",
    "\n",
    "    all_oligos=[]\n",
    "    for i in range(smallest_oligo_size,largest_oligo_size+1):\n",
    "        oligo_size=i\n",
    "        oligos_size_K=func_unique_oligos_of_size_K(genome, oligo_size)\n",
    "        for item in oligos_size_K:\n",
    "            all_oligos.append(item)\n",
    "        \n",
    "    return all_oligos"
   ]
  },
  {
   "cell_type": "code",
   "execution_count": 7,
   "metadata": {},
   "outputs": [],
   "source": [
    "def func_return_unique_oligos_given_genome(genome,smallest_oligo_size,largest_oligo_size):\n",
    "\n",
    "    complementary_strand_genome=func_generate_complementary_strand(genome)\n",
    "    genome_all_oligos=func_oligos_for_single_strand(genome)\n",
    "    complementary_strand_genome_all_oligos=func_oligos_for_single_strand(complementary_strand_genome)\n",
    "    \n",
    "    master_all_oligos=genome_all_oligos+complementary_strand_genome_all_oligos\n",
    "    \n",
    "    master_all_oligos_unique=set(master_all_oligos)\n",
    "        \n",
    "    return master_all_oligos_unique"
   ]
  },
  {
   "cell_type": "code",
   "execution_count": 8,
   "metadata": {},
   "outputs": [],
   "source": [
    "def func_run_iterations_collect_data(L,smallest_oligo_size,largest_oligo_size,N_ITER):\n",
    "\n",
    "    num_unique_oligos=[]\n",
    "    \n",
    "    for i in range(N_ITER):\n",
    "        genome=func_generate_genome_residues_4_uniform_distribution(L)\n",
    "        \n",
    "        master_all_oligos_unique=func_return_unique_oligos_given_genome(genome,smallest_oligo_size,largest_oligo_size)\n",
    "        num_unique_oligos.append(len(master_all_oligos_unique))\n",
    "        \n",
    "    return num_unique_oligos"
   ]
  },
  {
   "cell_type": "markdown",
   "metadata": {},
   "source": [
    "# Generate unique oligos for a given genome"
   ]
  },
  {
   "cell_type": "code",
   "execution_count": 39,
   "metadata": {
    "scrolled": true
   },
   "outputs": [
    {
     "name": "stdout",
     "output_type": "stream",
     "text": [
      "Genome strand: \t\tAUA\n",
      "Complementary strand: \tUAU\n",
      "Unique oligos: \t\t{'UU', 'UA', 'UUA', 'AUA', 'AAU', 'AA', 'UAU', 'UAA', 'AU', 'AUU'}\n",
      "# of unique oligos: \t10\n"
     ]
    }
   ],
   "source": [
    "####\n",
    "## Randomly generated genome\n",
    "####\n",
    "L=3\n",
    "genome=func_generate_genome_residues_4_uniform_distribution(L)\n",
    "\n",
    "####\n",
    "## User provided genome\n",
    "####\n",
    "#genome=\"AAA\" \n",
    "\n",
    "smallest_oligo_size=2 # Smallest oligomer size\n",
    "largest_oligo_size=10 # Largest oligomer size\n",
    "\n",
    "complementary_strand_genome=func_generate_complementary_strand(genome)\n",
    "print(\"Genome strand: \\t\\t\"+genome)\n",
    "print(\"Complementary strand: \\t\"+complementary_strand_genome)\n",
    "master_all_oligos_unique=func_return_unique_oligos_given_genome(genome,smallest_oligo_size,largest_oligo_size)\n",
    "print(\"Unique oligos: \\t\\t\"+str(master_all_oligos_unique))\n",
    "print(\"# of unique oligos: \\t\"+str(len(master_all_oligos_unique)))"
   ]
  },
  {
   "cell_type": "markdown",
   "metadata": {},
   "source": [
    "# Number of unique oligos for an ensemble of randomly generated genomes "
   ]
  },
  {
   "cell_type": "code",
   "execution_count": 422,
   "metadata": {},
   "outputs": [],
   "source": [
    "smallest_genome_size=10\n",
    "largest_genome_size=31\n",
    "\n",
    "smallest_oligo_size=2 # Smallest oligomer size\n",
    "largest_oligo_size=10 # Largest oligomer size\n",
    "\n",
    "N_ITER=10000\n",
    "step=1\n",
    "\n",
    "data=[]\n",
    "for L in range(smallest_genome_size,largest_genome_size,step): # Length of genome\n",
    "    num_unique_oligos_genome_length_L=func_run_iterations_collect_data(L,smallest_oligo_size,largest_oligo_size,N_ITER)\n",
    "    data.append(num_unique_oligos_genome_length_L)\n",
    "    \n",
    "assert len(data)==(largest_genome_size-smallest_genome_size)/step\n",
    "assert len(data[0])==N_ITER"
   ]
  },
  {
   "cell_type": "code",
   "execution_count": 424,
   "metadata": {},
   "outputs": [],
   "source": [
    "np.save(\"data_L_10_31_step1_2_10.npy\",data)"
   ]
  },
  {
   "cell_type": "code",
   "execution_count": 430,
   "metadata": {},
   "outputs": [
    {
     "data": {
      "text/plain": [
       "Text(0, 0.5, '# of unique oligos')"
      ]
     },
     "execution_count": 430,
     "metadata": {},
     "output_type": "execute_result"
    },
    {
     "data": {
      "image/png": "[encoded data removed]",
      "text/plain": [
       "<Figure size 720x360 with 1 Axes>"
      ]
     },
     "metadata": {
      "needs_background": "light"
     },
     "output_type": "display_data"
    }
   ],
   "source": [
    "plt.figure(figsize=(10,5))\n",
    "\n",
    "plt.boxplot(data,showfliers=False)\n",
    "\n",
    "plt.xticks(range(len(data)+1),range(smallest_genome_size-step,largest_genome_size,step))\n",
    "plt.xlabel(\"Genome length\")\n",
    "plt.ylabel(\"# of unique oligos\")"
   ]
  },
  {
   "cell_type": "code",
   "execution_count": 431,
   "metadata": {},
   "outputs": [],
   "source": [
    "smallest_genome_size=10\n",
    "largest_genome_size=210\n",
    "\n",
    "smallest_oligo_size=2 # Smallest oligomer size\n",
    "largest_oligo_size=10 # Largest oligomer size\n",
    "\n",
    "N_ITER=1000\n",
    "step=10\n",
    "\n",
    "data=[]\n",
    "for L in range(smallest_genome_size,largest_genome_size,step): # Length of genome\n",
    "    num_unique_oligos_genome_length_L=func_run_iterations_collect_data(L,smallest_oligo_size,largest_oligo_size,N_ITER)\n",
    "    data.append(num_unique_oligos_genome_length_L)\n",
    "    \n",
    "assert len(data)==(largest_genome_size-smallest_genome_size)/step\n",
    "assert len(data[0])==N_ITER"
   ]
  },
  {
   "cell_type": "code",
   "execution_count": 432,
   "metadata": {},
   "outputs": [],
   "source": [
    "np.save(\"data_L_10_210_step10_2_10.npy\",data)"
   ]
  },
  {
   "cell_type": "code",
   "execution_count": 435,
   "metadata": {},
   "outputs": [
    {
     "data": {
      "text/plain": [
       "Text(0, 0.5, '# of unique oligos')"
      ]
     },
     "execution_count": 435,
     "metadata": {},
     "output_type": "execute_result"
    },
    {
     "data": {
      "image/png": "[encoded data removed]",
      "text/plain": [
       "<Figure size 720x360 with 1 Axes>"
      ]
     },
     "metadata": {
      "needs_background": "light"
     },
     "output_type": "display_data"
    }
   ],
   "source": [
    "plt.figure(figsize=(10,5))\n",
    "\n",
    "plt.boxplot(data,showfliers=False)\n",
    "\n",
    "plt.xticks(range(len(data)+1),range(smallest_genome_size-step,largest_genome_size,step),rotation=20)\n",
    "plt.xlabel(\"Genome length\")\n",
    "plt.ylabel(\"# of unique oligos\")"
   ]
  },
  {
   "cell_type": "code",
   "execution_count": null,
   "metadata": {},
   "outputs": [],
   "source": []
  }
 ],
 "metadata": {
  "kernelspec": {
   "display_name": "Python 3",
   "language": "python",
   "name": "python3"
  },
  "language_info": {
   "codemirror_mode": {
    "name": "ipython",
    "version": 3
   },
   "file_extension": ".py",
   "mimetype": "text/x-python",
   "name": "python",
   "nbconvert_exporter": "python",
   "pygments_lexer": "ipython3",
   "version": "3.8.3"
  }
 },
 "nbformat": 4,
 "nbformat_minor": 4
}
